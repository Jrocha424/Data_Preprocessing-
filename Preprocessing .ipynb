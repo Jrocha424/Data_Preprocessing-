{
  "nbformat": 4,
  "nbformat_minor": 0,
  "metadata": {
    "colab": {
      "name": "Untitled1.ipynb",
      "provenance": [],
      "authorship_tag": "ABX9TyPrHtClWos8x6bgPvFrDjbO",
      "include_colab_link": true
    },
    "kernelspec": {
      "name": "python3",
      "display_name": "Python 3"
    }
  },
  "cells": [
    {
      "cell_type": "markdown",
      "metadata": {
        "id": "view-in-github",
        "colab_type": "text"
      },
      "source": [
        "<a href=\"https://colab.research.google.com/github/Jrocha424/Stock-Market-Data-Preprocessing-/blob/master/Preprocessing%20.ipynb\" target=\"_parent\"><img src=\"https://colab.research.google.com/assets/colab-badge.svg\" alt=\"Open In Colab\"/></a>"
      ]
    },
    {
      "cell_type": "code",
      "metadata": {
        "id": "gqAH8yqwRO_G",
        "colab_type": "code",
        "colab": {}
      },
      "source": [
        "api_key=\"MRUL85B38MKFBH\"\n",
        "\n",
        "import pandas as pd\n",
        "import matplotlib.pyplot as plt\n",
        "import numpy as np\n",
        "\n",
        "import datetime\n",
        "import tensorflow as tf\n",
        "from alpha_vantage.timeseries import TimeSeries\n",
        "ts=TimeSeries(key=api_key, output_format='pandas')"
      ],
      "execution_count": 7,
      "outputs": []
    },
    {
      "cell_type": "code",
      "metadata": {
        "id": "TiPfqGnVRVpX",
        "colab_type": "code",
        "colab": {}
      },
      "source": [
        "class DataGenerator():\n",
        "    def __init__(self, interval, outputsize):\n",
        "        self. interval= interval\n",
        "        self.outputsize=outputsize   \n",
        "        \n",
        "    def raw_data(self, symbol):\n",
        "        data, _=ts.get_intraday(symbol, interval=self.interval, outputsize=self.outputsize) \n",
        "        return  data \n",
        "    \n",
        "    def Normalization(self, symbol, split_fraction):       \n",
        "        data, _=ts.get_intraday(symbol, interval=self.interval, outputsize=self.outputsize)\n",
        "        data=data[::-1].reset_index()     \n",
        "        date_time=pd.to_datetime(data.pop('date'))\n",
        "        training=data[:int(len(data)*split_fraction)]   \n",
        "        validation=data[int(len(data)*split_fraction):]\n",
        "        training_norm= (training - training.mean())/ training.std()\n",
        "        validation_norm= (validation - training.mean())/ training.std()\n",
        "        return  training_norm, validation_norm, date_time "
      ],
      "execution_count": 17,
      "outputs": []
    },
    {
      "cell_type": "code",
      "metadata": {
        "id": "r4cWhCT7RYkO",
        "colab_type": "code",
        "colab": {}
      },
      "source": [
        "time_1hr_full=DataGenerator(interval='60min', outputsize='full')\n",
        "time_30min_full=DataGenerator(interval='30min', outputsize='full')\n",
        "time_5min_full=DataGenerator(interval='5min', outputsize='full')\n",
        "time_15min_full=DataGenerator(interval='15min', outputsize='full')\n",
        "time_1min_full=DataGenerator(interval='1min', outputsize='full')"
      ],
      "execution_count": 9,
      "outputs": []
    },
    {
      "cell_type": "code",
      "metadata": {
        "id": "UMcgOhIoR_Pf",
        "colab_type": "code",
        "colab": {
          "base_uri": "https://localhost:8080/",
          "height": 299
        },
        "outputId": "edce9000-e1fb-408b-f656-d403a7074091"
      },
      "source": [
        "\n",
        "training, validation,date_time = time_1min_full.Normalization(\"IBM\", 0.85)\n",
        "plt.plot(training['1. open'], label='training')\n",
        "plt.plot(validation['1. open'], label='validation')\n",
        "plt.title('IBM')\n",
        "plt.ylabel('Noramalized data')\n",
        "plt.legend()\n",
        "plt.fill_between(validation[\"1. open\"].index, validation[\"1. open\"], min(training[\"1. open\"]), facecolor='b', alpha=0.6)"
      ],
      "execution_count": 10,
      "outputs": [
        {
          "output_type": "execute_result",
          "data": {
            "text/plain": [
              "<matplotlib.collections.PolyCollection at 0x7f84903e57b8>"
            ]
          },
          "metadata": {
            "tags": []
          },
          "execution_count": 10
        },
        {
          "output_type": "display_data",
          "data": {
            "image/png": "[encoded data removed]",
            "text/plain": [
              "<Figure size 432x288 with 1 Axes>"
            ]
          },
          "metadata": {
            "tags": [],
            "needs_background": "light"
          }
        }
      ]
    },
    {
      "cell_type": "code",
      "metadata": {
        "id": "uChqWBjRSBHR",
        "colab_type": "code",
        "colab": {}
      },
      "source": [
        "class WindowGenerator():\n",
        "  def __init__(self, input_width, label_width, shift,\n",
        "               training=training, label_columns=None):\n",
        "      self.input_width=input_width \n",
        "      self.label_width=label_width\n",
        "      self.shift=shift\n",
        "      self.label_columns=label_columns\n",
        "      self.total_window_size = input_width + shift\n",
        "      self.columns_indices={name:i for i,name in enumerate(training.columns)}\n",
        "      self.input_slice = slice(0, input_width)\n",
        "      self.input_indices = np.arange(self.total_window_size)[self.input_slice]\n",
        "      self.label_indices = np.arange(self.total_window_size)[self.total_window_size - self.label_width: ]\n",
        "      \n",
        "  def __repr__(self):\n",
        "    return '\\n'.join([\n",
        "        f'Total window size: {self.total_window_size}',\n",
        "        f'Input indices: {self.input_indices}',\n",
        "        f'Label indices: {self.label_indices}',\n",
        "        f'Label column name(s): {self.label_columns}'])"
      ],
      "execution_count": 18,
      "outputs": []
    },
    {
      "cell_type": "code",
      "metadata": {
        "id": "VH7jupQaduMa",
        "colab_type": "code",
        "colab": {}
      },
      "source": [
        "def split_window(self, features):\n",
        "  inputs = features[:, self.input_slice, :]\n",
        "  labels = features[:, self.total_window_size - self.label_width:, :]\n",
        "  if self.label_columns is not None:\n",
        "    labels = tf.stack(\n",
        "        [labels[:, :, self.columns_indices[name]] for name in self.label_columns],\n",
        "        axis=-1)\n",
        "  # Slicing doesn't preserve static shape information, so set the shapes\n",
        "  # manually. This way the `tf.data.Datasets` are easier to inspect.\n",
        "  inputs.set_shape([None, self.input_width, None])\n",
        "  labels.set_shape([None, self.label_width, None])\n",
        "\n",
        "  return inputs, labels\n",
        "\n"
      ],
      "execution_count": 19,
      "outputs": []
    },
    {
      "cell_type": "code",
      "metadata": {
        "id": "Hx8DJ7YNhC5R",
        "colab_type": "code",
        "colab": {}
      },
      "source": [
        "  WindowGenerator.split_window = split_window"
      ],
      "execution_count": 20,
      "outputs": []
    },
    {
      "cell_type": "code",
      "metadata": {
        "id": "LNwXz7fXd4T5",
        "colab_type": "code",
        "colab": {}
      },
      "source": [
        "def make_dataset(self, data):\n",
        "  data = np.array(data, dtype=np.float32)\n",
        "  ds = tf.keras.preprocessing.timeseries_dataset_from_array(\n",
        "      data=data,\n",
        "      targets=None,\n",
        "      sequence_length=self.total_window_size,\n",
        "      sequence_stride=1,\n",
        "      shuffle=True,\n",
        "      batch_size=32,)\n",
        "  ds = ds.map(self.split_window)\n",
        "  return ds\n",
        "\n",
        "\n",
        "WindowGenerator.make_dataset = make_dataset"
      ],
      "execution_count": 21,
      "outputs": []
    },
    {
      "cell_type": "code",
      "metadata": {
        "id": "QLXVVNnYeC0K",
        "colab_type": "code",
        "colab": {
          "base_uri": "https://localhost:8080/",
          "height": 87
        },
        "outputId": "bd6d924d-b0e4-4022-c3e8-9a4ee3f526ed"
      },
      "source": [
        "\n",
        "w12 = WindowGenerator(input_width=6, label_width=6, shift=6, training=training,\n",
        "                     label_columns=['4. close'])\n",
        "\n",
        "print(w12)"
      ],
      "execution_count": 22,
      "outputs": [
        {
          "output_type": "stream",
          "text": [
            "Total window size: 12\n",
            "Input indices: [0 1 2 3 4 5]\n",
            "Label indices: [ 6  7  8  9 10 11]\n",
            "Label column name(s): ['4. close']\n"
          ],
          "name": "stdout"
        }
      ]
    },
    {
      "cell_type": "code",
      "metadata": {
        "id": "_7NS8OHmeDB9",
        "colab_type": "code",
        "colab": {
          "base_uri": "https://localhost:8080/",
          "height": 52
        },
        "outputId": "cead3690-1bb3-47e2-ed77-9adf205375dc"
      },
      "source": [
        "for example_inputs, example_labels in w12.make_dataset(validation).take(1):\n",
        "    print(f'Inputs shape (batch, time, features): {example_inputs.shape}')\n",
        "    print(f'Labels shape (batch, time, features): {example_labels.shape}')"
      ],
      "execution_count": 23,
      "outputs": [
        {
          "output_type": "stream",
          "text": [
            "Inputs shape (batch, time, features): (32, 6, 5)\n",
            "Labels shape (batch, time, features): (32, 6, 1)\n"
          ],
          "name": "stdout"
        }
      ]
    },
    {
      "cell_type": "code",
      "metadata": {
        "id": "JUmMRok3hKPI",
        "colab_type": "code",
        "colab": {}
      },
      "source": [
        ""
      ],
      "execution_count": 16,
      "outputs": []
    }
  ]
}